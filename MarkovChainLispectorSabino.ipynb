{
  "nbformat": 4,
  "nbformat_minor": 0,
  "metadata": {
    "colab": {
      "provenance": [],
      "authorship_tag": "ABX9TyNERaCo//WxpaBAqcxOU1Mx",
      "include_colab_link": true
    },
    "kernelspec": {
      "name": "python3",
      "display_name": "Python 3"
    },
    "language_info": {
      "name": "python"
    }
  },
  "cells": [
    {
      "cell_type": "markdown",
      "metadata": {
        "id": "view-in-github",
        "colab_type": "text"
      },
      "source": [
        "<a href=\"https://colab.research.google.com/github/rijema/MarkovChain-LispectorSabino/blob/main/MarkovChainLispectorSabino.ipynb\" target=\"_parent\"><img src=\"https://colab.research.google.com/assets/colab-badge.svg\" alt=\"Open In Colab\"/></a>"
      ]
    },
    {
      "cell_type": "code",
      "source": [
        "pip install markovify"
      ],
      "metadata": {
        "colab": {
          "base_uri": "https://localhost:8080/"
        },
        "id": "bNSGIfiLggLU",
        "outputId": "29a1dfa0-5654-4ef8-88f3-d98f10d47adf"
      },
      "execution_count": 1,
      "outputs": [
        {
          "output_type": "stream",
          "name": "stdout",
          "text": [
            "Collecting markovify\n",
            "  Downloading markovify-0.9.4.tar.gz (27 kB)\n",
            "  Preparing metadata (setup.py) ... \u001b[?25l\u001b[?25hdone\n",
            "Collecting unidecode (from markovify)\n",
            "  Downloading Unidecode-1.3.8-py3-none-any.whl (235 kB)\n",
            "\u001b[2K     \u001b[90m━━━━━━━━━━━━━━━━━━━━━━━━━━━━━━━━━━━━━━━━\u001b[0m \u001b[32m235.5/235.5 kB\u001b[0m \u001b[31m2.2 MB/s\u001b[0m eta \u001b[36m0:00:00\u001b[0m\n",
            "\u001b[?25hBuilding wheels for collected packages: markovify\n",
            "  Building wheel for markovify (setup.py) ... \u001b[?25l\u001b[?25hdone\n",
            "  Created wheel for markovify: filename=markovify-0.9.4-py3-none-any.whl size=18608 sha256=d31830ae28038a929b3633e0d801ad1a0c68e184b08737b87266d879363c206e\n",
            "  Stored in directory: /root/.cache/pip/wheels/ca/8c/c5/41413e24c484f883a100c63ca7b3b0362b7c6f6eb6d7c9cc7f\n",
            "Successfully built markovify\n",
            "Installing collected packages: unidecode, markovify\n",
            "Successfully installed markovify-0.9.4 unidecode-1.3.8\n"
          ]
        }
      ]
    },
    {
      "cell_type": "code",
      "execution_count": 9,
      "metadata": {
        "colab": {
          "base_uri": "https://localhost:8080/"
        },
        "id": "IQFh0E-wgdsK",
        "outputId": "ae1e0cfe-4e34-4c61-8e2f-9a032c142ab4"
      },
      "outputs": [
        {
          "output_type": "stream",
          "name": "stdout",
          "text": [
            "Os sonhos são o combustível que nos ensina a ser resilientes e adaptáveis.\n",
            "O silêncio é muitas vezes não percebemos.\n",
            "A natureza é uma série de momentos que devemos valorizar.\n",
            "O amor é a voz da alma, que se revela aos poucos, delicadamente.\n",
            "A coragem de seguir em frente é o último grau de sofisticação e sabedoria.\n",
            "A verdade é a luz que guia nossos passos no escuro e nos faz perceber o valor das pequenas coisas que muitas vezes a resposta mais sábia que podemos alcançar.\n",
            "A paz interior é um tesouro raro e precioso que devemos aproveitar ao máximo e com determinação.\n",
            "Os sonhos são os motores que nos torna verdadeiramente humanos e conectados.\n"
          ]
        }
      ],
      "source": [
        "import markovify\n",
        "\n",
        "with open(\"clarice.txt\") as f:\n",
        "    text = f.read()\n",
        "\n",
        "with open(\"sabino.txt\") as f:\n",
        "    textSabino = f.read()\n",
        "\n",
        "text_model = markovify.Text(text)\n",
        "text_model_sabino = markovify.Text(textSabino)\n",
        "\n",
        "for i in range(5):\n",
        "    print(text_model_sabino.make_sentence(500))\n",
        "\n",
        "print()\n",
        "\n",
        "for i in range(5):\n",
        "    print(text_model.make_short_sentence(280))\n",
        "\n",
        "\n"
      ]
    },
    {
      "cell_type": "code",
      "source": [
        "model_a = text_model\n",
        "model_b = markovify.Text(textSabino)\n",
        "\n",
        "model_combo = markovify.combine([ model_a, model_b ], [ 0.2, 0.8])\n",
        "\n",
        "for i in range(5):\n",
        "    print(model_combo.make_sentence())"
      ],
      "metadata": {
        "colab": {
          "base_uri": "https://localhost:8080/"
        },
        "id": "Wr1_s9_v-p02",
        "outputId": "94657d4b-a70f-4e1f-9d49-186498887056"
      },
      "execution_count": 27,
      "outputs": [
        {
          "output_type": "stream",
          "name": "stdout",
          "text": [
            "O valor das coisas existe no espírito de quem as contempla O tempo é o que há nele.\n",
            "A liberdade é um lugar perigoso não por causa daqueles que observam e deixam o mal acontecer.\n",
            "O mundo é um portal para a felicidade.\n",
            "A vida é uma peça de teatro que não erra é aquele que nunca fez nada.\n",
            "O passado nos molda, mas é no presente que vivemos.\n"
          ]
        }
      ]
    },
    {
      "cell_type": "code",
      "source": [
        "# Matriz de adjacência\n",
        "peso = [0.5, 0.3, 0.2]\n",
        "\n",
        "\n",
        "# Criando os modelos de Markov para cada estado\n",
        "model_0 = markovify.Text(text)\n",
        "model_1 = markovify.Text(textSabino)\n",
        "model_2 = markovify.Text(text)\n",
        "print(\"Clarice esta digitando... : \" + model_0.make_sentence())\n",
        "print(\"Sabino esta digitando... : \" +  model_1.make_sentence())\n",
        "print(\"Clarice esta digitando... : \" + model_2.make_sentence())\n",
        "print()\n",
        "\n",
        "# Combinando os modelos com os pesos\n",
        "model_combo = markovify.combine([model_0, model_1, model_2], peso)\n",
        "\n",
        "# Gerando frases com o modelo combinado\n",
        "print(\"=== Correspondencia mutua ===\")\n",
        "for i in range(5):\n",
        "    print(model_combo.make_sentence())\n"
      ],
      "metadata": {
        "colab": {
          "base_uri": "https://localhost:8080/"
        },
        "id": "Z6aCEPiW-_2F",
        "outputId": "a0733607-a768-46c6-8932-c6f824edb97e"
      },
      "execution_count": 23,
      "outputs": [
        {
          "output_type": "stream",
          "name": "stdout",
          "text": [
            "Clarice esta digitando... : O silêncio é muitas vezes não percebemos.\n",
            "Sabino esta digitando... : A vida é uma peça de teatro que não erra é aquele que nunca fez nada.\n",
            "Clarice esta digitando... : O silêncio é muitas vezes mais eloquente do que mil palavras poderiam expressar.\n",
            "\n",
            "=== Correspondencia mutua ===\n",
            "Os amigos são os motores que nos define como seres humanos.\n",
            "A esperança é o que nos impulsionam a seguir em frente é o que somos pelo que poderíamos vir a ser.\n",
            "A verdadeira alegria consiste em fazermos a alegria dos outros A verdadeira alegria vem da experiência e do aprendizado constante.\n",
            "O importante não é vencer todos os problemas A vida é um reflexo da nossa própria existência.\n",
            "Fazer o bem A verdadeira alegria está na própria casa Entre as alegrias da família A verdadeira alegria está em exigir muito de si todos os dias.\n"
          ]
        }
      ]
    },
    {
      "cell_type": "code",
      "source": [
        "modelClariceCompiled = text_model.compile()\n",
        "modelSabinoCompiled = text_model.compile()"
      ],
      "metadata": {
        "id": "9lyFdryK-o_4"
      },
      "execution_count": null,
      "outputs": []
    },
    {
      "cell_type": "code",
      "source": [
        "import random\n",
        "\n",
        "mensagens_clarice = [\n",
        "    \"Pensei nesta frase:\",\n",
        "    \"Oi, o que você acha de:\",\n",
        "    \"Interessante, e se:\",\n",
        "    \"Gostaria de incrementar esta parte:\",\n",
        "    \"Refletindo sobre isso, talvez:\",\n",
        "    \"E se adicionássemos:\",\n",
        "    \"Uma nova perspectiva:\",\n",
        "    \"Explorando outras ideias:\",\n",
        "    \"Que tal se:\",\n",
        "    \"Mudando um pouco o foco:\"\n",
        "]\n",
        "\n",
        "mensagens_sabino = [\n",
        "    \"Hum, interessante:\",\n",
        "    \"Concordo, e podemos adicionar:\",\n",
        "    \"Talvez seja melhor:\",\n",
        "    \"Que tal experimentar:\",\n",
        "    \"Uma outra abordagem seria:\",\n",
        "    \"Gostei, mas podemos melhorar com:\",\n",
        "    \"Expandindo a ideia:\",\n",
        "    \"Simplificando, poderíamos dizer:\",\n",
        "    \"Invertendo a lógica:\",\n",
        "    \"Uma nova perspectiva:\"\n",
        "]\n",
        "\n",
        "for i in range(5):\n",
        "    mensagem_clarice = random.choice(mensagens_clarice)\n",
        "    frase_clarice = model_0.make_sentence()\n",
        "    print(f\"Clarice digita: {mensagem_clarice} {frase_clarice}\")\n",
        "\n",
        "    mensagem_sabino = random.choice(mensagens_sabino)\n",
        "    frase_sabino = model_1.make_sentence()\n",
        "    print(f\"Sabino digita: {mensagem_sabino} {frase_sabino}\")\n",
        "    print(\"---\")"
      ],
      "metadata": {
        "colab": {
          "base_uri": "https://localhost:8080/"
        },
        "id": "lVShFUXQCwIg",
        "outputId": "cd104f51-70b2-4689-d652-0c90765cfb2e"
      },
      "execution_count": 26,
      "outputs": [
        {
          "output_type": "stream",
          "name": "stdout",
          "text": [
            "Clarice digita: Refletindo sobre isso, talvez: A natureza é um portal para a verdadeira essência da beleza e da felicidade.\n",
            "Sabino digita: Uma nova perspectiva: Estar pronto para, a qualquer momento, sacrificar o que o exercício é para o intelecto o que o exercício é para o sucesso O valor das coisas existe no espírito de quem as contempla.\n",
            "---\n",
            "Clarice digita: Gostaria de incrementar esta parte: A coragem de seguir em frente é o que nos ensina a ser resilientes e adaptáveis.\n",
            "Sabino digita: Expandindo a ideia: A verdadeira felicidade está em exigir muito de si todos os problemas.\n",
            "---\n",
            "Clarice digita: Mudando um pouco o foco: O passado nos molda, mas é no presente que nos impulsionam a seguir em frente é o que há.\n",
            "Sabino digita: Que tal experimentar: A vida é uma aventura com um final perfeito A vida é a força, mas a constância dos bons sentimentos que conduz o homem à felicidade.\n",
            "---\n",
            "Clarice digita: Gostaria de incrementar esta parte: A amizade é um tesouro raro e precioso que devemos preservar.\n",
            "Sabino digita: Talvez seja melhor: O valor das coisas não está se passando inutilmente.\n",
            "---\n",
            "Clarice digita: Pensei nesta frase: O silêncio é muitas vezes mais eloquente do que mil palavras poderiam expressar.\n",
            "Sabino digita: Uma outra abordagem seria: A felicidade é encontrar a nossa alma dizendo para onde ela quer voltar.\n",
            "---\n"
          ]
        }
      ]
    },
    {
      "cell_type": "code",
      "source": [
        "matriz_transicao = [\n",
        "    [0.7, 0.3],   #Clarice fica como prioritaria, Sabino apenas com 30%\n",
        "    [0.4, 0.6], #Clarice fica como secundaria, Sabino com 60%\n",
        "]\n",
        "\n",
        "estado_atual = 0\n",
        "for i in range(10):\n",
        "    if estado_atual == 0:\n",
        "        print(\"Clarice esta digitando... : \" + model_0.make_sentence())\n",
        "    else:\n",
        "        print(\"Sabino esta digitando... : \" + model_1.make_sentence())\n",
        "\n",
        "    proxima_linha = matriz_transicao[estado_atual]\n",
        "    estado_atual = random.choices([0, 1], weights=proxima_linha)[0]"
      ],
      "metadata": {
        "colab": {
          "base_uri": "https://localhost:8080/"
        },
        "id": "pk8WyxJ5ELmY",
        "outputId": "7f7fafce-7402-4cec-8644-3121adf04ec5"
      },
      "execution_count": 28,
      "outputs": [
        {
          "output_type": "stream",
          "name": "stdout",
          "text": [
            "Clarice esta digitando... : A saudade é a luz que guia nossos passos no escuro e nos faz perceber o valor das pequenas coisas.\n",
            "Clarice esta digitando... : O tempo é um tesouro raro e precioso que devemos focar nossas ações e decisões.\n",
            "Sabino esta digitando... : A vida é a chave para a felicidade.\n",
            "Sabino esta digitando... : O segredo da vida não é algo pronto.\n",
            "Clarice esta digitando... : A coragem de seguir em frente é o que nos impulsionam a seguir em frente.\n",
            "Clarice esta digitando... : A gratidão transforma nosso coração e ilumina a vida e os momentos importantes.\n",
            "Clarice esta digitando... : A alegria é contagiante e ilumina a vida com todas suas nuances.\n",
            "Clarice esta digitando... : A leitura é uma luz que guia nossos passos na escuridão.\n",
            "Clarice esta digitando... : O tempo é um direito fundamental que devemos aproveitar ao máximo.\n",
            "Clarice esta digitando... : A simplicidade é a luz que ilumina a vida com todas suas nuances.\n"
          ]
        }
      ]
    }
  ]
}